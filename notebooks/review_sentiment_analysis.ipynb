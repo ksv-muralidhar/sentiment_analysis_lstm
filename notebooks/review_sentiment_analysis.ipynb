{
 "cells": [
  {
   "cell_type": "code",
   "execution_count": 85,
   "id": "e30036c9-a267-40e3-a7e1-0ffa7258b8c7",
   "metadata": {},
   "outputs": [],
   "source": [
    "import pandas as pd\n",
    "import numpy as np\n",
    "import string\n",
    "from unidecode import unidecode\n",
    "import re\n",
    "from tqdm import tqdm\n",
    "from tensorflow.keras.preprocessing.text import Tokenizer\n",
    "from tensorflow.keras.preprocessing.sequence import pad_sequences\n",
    "from tensorflow.keras.models import Sequential\n",
    "from tensorflow.keras import models\n",
    "from tensorflow.keras.layers import Embedding, LSTM, Dense, Dropout\n",
    "from tensorflow.keras.utils import to_categorical\n",
    "from sklearn.model_selection import train_test_split\n",
    "from tensorflow.keras.callbacks import EarlyStopping\n",
    "import string\n",
    "import os\n",
    "import cloudpickle\n",
    "import sys\n",
    "os.chdir(\"..\")\n",
    "sys.path.insert(0,os.path.abspath(os.path.join(\".\")))\n",
    "from preprocessing.text_preprocessing import TextPreprocessor"
   ]
  },
  {
   "cell_type": "code",
   "execution_count": 2,
   "id": "cbaf9389-53ab-461c-935a-0c5244ae5c0a",
   "metadata": {},
   "outputs": [
    {
     "name": "stdout",
     "output_type": "stream",
     "text": [
      "Num GPUs Available:  1\n"
     ]
    }
   ],
   "source": [
    "import tensorflow as tf\n",
    "print(\"Num GPUs Available: \", len(tf.config.list_physical_devices('GPU')))"
   ]
  },
  {
   "cell_type": "code",
   "execution_count": 3,
   "id": "37bd7fd0-4a40-4f68-8cd5-22cdd194070e",
   "metadata": {},
   "outputs": [],
   "source": [
    "def get_train_data():\n",
    "    # amazon_train = pd.read_csv(os.path.join(\"..\", \"data\", \"amazon_train.csv\"), header=None, names=[\"rating\", 'st', \"text\"])\n",
    "    # amazon_train.drop(columns=['st'], inplace=True)\n",
    "    # amazon_train.dropna(inplace=True)\n",
    "    # x1, x2 = train_test_split(amazon_train, test_size=0.05, stratify=amazon_train['rating'], random_state=42)\n",
    "    # yelp_train = pd.read_csv(os.path.join(\"..\", \"data\", \"yelp_train.csv\"), header=None, names=[\"rating\", \"text\"])\n",
    "    # train = pd.concat([yelp_train, x2], axis=0, ignore_index=True)\n",
    "    # train.to_parquet(os.path.join(\"..\", \"data\", \"yelp_amazon_train.parquet\"))\n",
    "    train = pd.read_parquet(os.path.join(\".\", \"data\", \"yelp_amazon_train.parquet\"))\n",
    "    return train"
   ]
  },
  {
   "cell_type": "code",
   "execution_count": 4,
   "id": "0b38ddac-53d0-4af8-ae35-a1cdf50b80c6",
   "metadata": {},
   "outputs": [],
   "source": [
    "data = get_train_data()"
   ]
  },
  {
   "cell_type": "code",
   "execution_count": 5,
   "id": "caf02a6c-8eee-430f-9a74-69af18dbc2fd",
   "metadata": {},
   "outputs": [
    {
     "data": {
      "text/html": [
       "<div>\n",
       "<style scoped>\n",
       "    .dataframe tbody tr th:only-of-type {\n",
       "        vertical-align: middle;\n",
       "    }\n",
       "\n",
       "    .dataframe tbody tr th {\n",
       "        vertical-align: top;\n",
       "    }\n",
       "\n",
       "    .dataframe thead th {\n",
       "        text-align: right;\n",
       "    }\n",
       "</style>\n",
       "<table border=\"1\" class=\"dataframe\">\n",
       "  <thead>\n",
       "    <tr style=\"text-align: right;\">\n",
       "      <th></th>\n",
       "      <th>rating</th>\n",
       "      <th>text</th>\n",
       "    </tr>\n",
       "  </thead>\n",
       "  <tbody>\n",
       "    <tr>\n",
       "      <th>0</th>\n",
       "      <td>1</td>\n",
       "      <td>Unfortunately, the frustration of being Dr. Go...</td>\n",
       "    </tr>\n",
       "    <tr>\n",
       "      <th>1</th>\n",
       "      <td>2</td>\n",
       "      <td>Been going to Dr. Goldberg for over 10 years. ...</td>\n",
       "    </tr>\n",
       "    <tr>\n",
       "      <th>2</th>\n",
       "      <td>1</td>\n",
       "      <td>I don't know what Dr. Goldberg was like before...</td>\n",
       "    </tr>\n",
       "    <tr>\n",
       "      <th>3</th>\n",
       "      <td>1</td>\n",
       "      <td>I'm writing this review to give you a heads up...</td>\n",
       "    </tr>\n",
       "    <tr>\n",
       "      <th>4</th>\n",
       "      <td>2</td>\n",
       "      <td>All the food is great here. But the best thing...</td>\n",
       "    </tr>\n",
       "  </tbody>\n",
       "</table>\n",
       "</div>"
      ],
      "text/plain": [
       "   rating                                               text\n",
       "0       1  Unfortunately, the frustration of being Dr. Go...\n",
       "1       2  Been going to Dr. Goldberg for over 10 years. ...\n",
       "2       1  I don't know what Dr. Goldberg was like before...\n",
       "3       1  I'm writing this review to give you a heads up...\n",
       "4       2  All the food is great here. But the best thing..."
      ]
     },
     "execution_count": 5,
     "metadata": {},
     "output_type": "execute_result"
    }
   ],
   "source": [
    "data.head()"
   ]
  },
  {
   "cell_type": "code",
   "execution_count": 6,
   "id": "a7d57e6f-0609-4aaa-b941-0a3122aff774",
   "metadata": {},
   "outputs": [
    {
     "data": {
      "text/html": [
       "<div>\n",
       "<style scoped>\n",
       "    .dataframe tbody tr th:only-of-type {\n",
       "        vertical-align: middle;\n",
       "    }\n",
       "\n",
       "    .dataframe tbody tr th {\n",
       "        vertical-align: top;\n",
       "    }\n",
       "\n",
       "    .dataframe thead th {\n",
       "        text-align: right;\n",
       "    }\n",
       "</style>\n",
       "<table border=\"1\" class=\"dataframe\">\n",
       "  <thead>\n",
       "    <tr style=\"text-align: right;\">\n",
       "      <th></th>\n",
       "      <th>rating</th>\n",
       "      <th>text</th>\n",
       "    </tr>\n",
       "  </thead>\n",
       "  <tbody>\n",
       "    <tr>\n",
       "      <th>739995</th>\n",
       "      <td>1</td>\n",
       "      <td>I bought a similar portable DVD player from Po...</td>\n",
       "    </tr>\n",
       "    <tr>\n",
       "      <th>739996</th>\n",
       "      <td>2</td>\n",
       "      <td>This is a great book for people wanting to get...</td>\n",
       "    </tr>\n",
       "    <tr>\n",
       "      <th>739997</th>\n",
       "      <td>2</td>\n",
       "      <td>Here I Am Dionne Warwick, Scepter Label origin...</td>\n",
       "    </tr>\n",
       "    <tr>\n",
       "      <th>739998</th>\n",
       "      <td>2</td>\n",
       "      <td>the book arrived in the condition described by...</td>\n",
       "    </tr>\n",
       "    <tr>\n",
       "      <th>739999</th>\n",
       "      <td>1</td>\n",
       "      <td>The product seems to be fine, but I ordered th...</td>\n",
       "    </tr>\n",
       "  </tbody>\n",
       "</table>\n",
       "</div>"
      ],
      "text/plain": [
       "        rating                                               text\n",
       "739995       1  I bought a similar portable DVD player from Po...\n",
       "739996       2  This is a great book for people wanting to get...\n",
       "739997       2  Here I Am Dionne Warwick, Scepter Label origin...\n",
       "739998       2  the book arrived in the condition described by...\n",
       "739999       1  The product seems to be fine, but I ordered th..."
      ]
     },
     "execution_count": 6,
     "metadata": {},
     "output_type": "execute_result"
    }
   ],
   "source": [
    "data.tail()"
   ]
  },
  {
   "cell_type": "code",
   "execution_count": 7,
   "id": "2a7ecfa5-3194-4dd4-80a4-3985726faf95",
   "metadata": {},
   "outputs": [
    {
     "data": {
      "text/plain": [
       "(740000, 2)"
      ]
     },
     "execution_count": 7,
     "metadata": {},
     "output_type": "execute_result"
    }
   ],
   "source": [
    "data.shape"
   ]
  },
  {
   "cell_type": "code",
   "execution_count": 8,
   "id": "8e4b2ded-771e-43f9-baa2-8c6de00a9d5e",
   "metadata": {},
   "outputs": [
    {
     "data": {
      "text/plain": [
       "rating     int64\n",
       "text      object\n",
       "dtype: object"
      ]
     },
     "execution_count": 8,
     "metadata": {},
     "output_type": "execute_result"
    }
   ],
   "source": [
    "data.dtypes"
   ]
  },
  {
   "cell_type": "code",
   "execution_count": 9,
   "id": "c5ece5bd-f13f-4907-ad89-046be1481e89",
   "metadata": {},
   "outputs": [],
   "source": [
    "x = data['text']\n",
    "y = data['rating']"
   ]
  },
  {
   "cell_type": "markdown",
   "id": "0b9ef3a7-8f86-41d7-b350-473e3e2d4cc7",
   "metadata": {},
   "source": [
    "<h2>Text Preprocessing"
   ]
  },
  {
   "cell_type": "code",
   "execution_count": null,
   "id": "7833fd3f-4c0e-4e80-a375-71b7efac7786",
   "metadata": {},
   "outputs": [],
   "source": [
    "# tp = TextPreprocessor()"
   ]
  },
  {
   "cell_type": "code",
   "execution_count": null,
   "id": "f2de07c6-d992-4c2f-a03e-d589c87f01e5",
   "metadata": {},
   "outputs": [],
   "source": [
    "# x_preprocessed = tp.preprocess(x)"
   ]
  },
  {
   "cell_type": "code",
   "execution_count": null,
   "id": "bbd32771-feab-4503-80ce-b9ad3466311f",
   "metadata": {},
   "outputs": [],
   "source": [
    "# save preprocessed data for future use\n",
    "# pd.DataFrame({'rating': y, 'text': x_preprocessed}).to_parquet(os.path.join(\".\", \"data\", \"x_train_preprocessed_no_lemmatize.parquet\"))"
   ]
  },
  {
   "cell_type": "code",
   "execution_count": 11,
   "id": "2cce5787-e4ea-4167-b7a9-9353a0a88ea1",
   "metadata": {},
   "outputs": [],
   "source": [
    "train_preprocessed = pd.read_parquet(\"./data/x_train_preprocessed_no_lemmatize.parquet\")"
   ]
  },
  {
   "cell_type": "code",
   "execution_count": 12,
   "id": "ae48c1c6-d602-496d-9247-7346f2354582",
   "metadata": {},
   "outputs": [
    {
     "data": {
      "text/html": [
       "<div>\n",
       "<style scoped>\n",
       "    .dataframe tbody tr th:only-of-type {\n",
       "        vertical-align: middle;\n",
       "    }\n",
       "\n",
       "    .dataframe tbody tr th {\n",
       "        vertical-align: top;\n",
       "    }\n",
       "\n",
       "    .dataframe thead th {\n",
       "        text-align: right;\n",
       "    }\n",
       "</style>\n",
       "<table border=\"1\" class=\"dataframe\">\n",
       "  <thead>\n",
       "    <tr style=\"text-align: right;\">\n",
       "      <th></th>\n",
       "      <th>rating</th>\n",
       "      <th>text</th>\n",
       "    </tr>\n",
       "  </thead>\n",
       "  <tbody>\n",
       "    <tr>\n",
       "      <th>0</th>\n",
       "      <td>1</td>\n",
       "      <td>unfortunately frustration dr goldberg patient ...</td>\n",
       "    </tr>\n",
       "    <tr>\n",
       "      <th>1</th>\n",
       "      <td>2</td>\n",
       "      <td>going dr goldberg over years think one st pati...</td>\n",
       "    </tr>\n",
       "    <tr>\n",
       "      <th>2</th>\n",
       "      <td>1</td>\n",
       "      <td>not know dr goldberg like moving arizona but l...</td>\n",
       "    </tr>\n",
       "    <tr>\n",
       "      <th>3</th>\n",
       "      <td>1</td>\n",
       "      <td>writing review give heads up see doctor office...</td>\n",
       "    </tr>\n",
       "    <tr>\n",
       "      <th>4</th>\n",
       "      <td>2</td>\n",
       "      <td>food great but best thing wings wings simply f...</td>\n",
       "    </tr>\n",
       "    <tr>\n",
       "      <th>...</th>\n",
       "      <td>...</td>\n",
       "      <td>...</td>\n",
       "    </tr>\n",
       "    <tr>\n",
       "      <th>739995</th>\n",
       "      <td>1</td>\n",
       "      <td>bought similar portable dvd player polaroid am...</td>\n",
       "    </tr>\n",
       "    <tr>\n",
       "      <th>739996</th>\n",
       "      <td>2</td>\n",
       "      <td>great book people wanting get programming wind...</td>\n",
       "    </tr>\n",
       "    <tr>\n",
       "      <th>739997</th>\n",
       "      <td>2</td>\n",
       "      <td>dionne warwick scepter label originally releas...</td>\n",
       "    </tr>\n",
       "    <tr>\n",
       "      <th>739998</th>\n",
       "      <td>2</td>\n",
       "      <td>book arrived condition described dealer deligh...</td>\n",
       "    </tr>\n",
       "    <tr>\n",
       "      <th>739999</th>\n",
       "      <td>1</td>\n",
       "      <td>product seems fine but ordered wrong thing wan...</td>\n",
       "    </tr>\n",
       "  </tbody>\n",
       "</table>\n",
       "<p>740000 rows × 2 columns</p>\n",
       "</div>"
      ],
      "text/plain": [
       "        rating                                               text\n",
       "0            1  unfortunately frustration dr goldberg patient ...\n",
       "1            2  going dr goldberg over years think one st pati...\n",
       "2            1  not know dr goldberg like moving arizona but l...\n",
       "3            1  writing review give heads up see doctor office...\n",
       "4            2  food great but best thing wings wings simply f...\n",
       "...        ...                                                ...\n",
       "739995       1  bought similar portable dvd player polaroid am...\n",
       "739996       2  great book people wanting get programming wind...\n",
       "739997       2  dionne warwick scepter label originally releas...\n",
       "739998       2  book arrived condition described dealer deligh...\n",
       "739999       1  product seems fine but ordered wrong thing wan...\n",
       "\n",
       "[740000 rows x 2 columns]"
      ]
     },
     "execution_count": 12,
     "metadata": {},
     "output_type": "execute_result"
    }
   ],
   "source": [
    "train_preprocessed"
   ]
  },
  {
   "cell_type": "code",
   "execution_count": 13,
   "id": "dd5de9fe-28d8-464e-8222-b60c99373dfe",
   "metadata": {},
   "outputs": [
    {
     "data": {
      "text/plain": [
       "[\"Unfortunately, the frustration of being Dr. Goldberg's patient is a repeat of the experience I've had with so many other doctors in NYC -- good doctor, terrible staff.  It seems that his staff simply never answers the phone.  It usually takes 2 hours of repeated calling to get an answer.  Who has time for that or wants to deal with it?  I have run into this problem with many other doctors and I just don't get it.  You have office workers, you have patients with medical needs, why isn't anyone answering the phone?  It's incomprehensible and not work the aggravation.  It's with regret that I feel that I have to give Dr. Goldberg 2 stars.\",\n",
       " \"Been going to Dr. Goldberg for over 10 years. I think I was one of his 1st patients when he started at MHMG. He's been great over the years and is really all about the big picture. It is because of him, not my now former gyn Dr. Markoff, that I found out I have fibroids. He explores all options with you and is very patient and understanding. He doesn't judge and asks all the right questions. Very thorough and wants to be kept in the loop on every aspect of your medical health and your life.\",\n",
       " \"I don't know what Dr. Goldberg was like before  moving to Arizona, but let me tell you, STAY AWAY from this doctor and this office. I was going to Dr. Johnson before he left and Goldberg took over when Johnson left. He is not a caring doctor. He is only interested in the co-pay and having you come in for medication refills every month. He will not give refills and could less about patients's financial situations. Trying to get your 90 days mail away pharmacy prescriptions through this guy is a joke. And to make matters even worse, his office staff is incompetent. 90% of the time when you call the office, they'll put you through to a voice mail, that NO ONE ever answers or returns your call. Both my adult children and husband have decided to leave this practice after experiencing such frustration. The entire office has an attitude like they are doing you a favor. Give me a break! Stay away from this doc and the practice. You deserve better and they will not be there when you really need them. I have never felt compelled to write a bad review about anyone until I met this pathetic excuse for a doctor who is all about the money.\",\n",
       " \"I'm writing this review to give you a heads up before you see this Doctor. The office staff and administration are very unprofessional. I left a message with multiple people regarding my bill, and no one ever called me back. I had to hound them to get an answer about my bill. \\\\n\\\\nSecond, and most important, make sure your insurance is going to cover Dr. Goldberg's visits and blood work. He recommended to me that I get a physical, and he knew I was a student because I told him. I got the physical done. Later, I found out my health insurance doesn't pay for preventative visits. I received an $800.00 bill for the blood work. I can't pay for my bill because I'm a student and don't have any cash flow at this current time. I can't believe the Doctor wouldn't give me a heads up to make sure my insurance would cover work that wasn't necessary and was strictly preventative. The office can't do anything to help me cover the bill. In addition, the office staff said the onus is on me to make sure my insurance covers visits. Frustrating situation!\",\n",
       " 'All the food is great here. But the best thing they have is their wings. Their wings are simply fantastic!!  The \\\\\"Wet Cajun\\\\\" are by the best & most popular.  I also like the seasoned salt wings.  Wing Night is Monday & Wednesday night, $0.75 whole wings!\\\\n\\\\nThe dining area is nice. Very family friendly! The bar is very nice is well.  This place is truly a Yinzer\\'s dream!!  \\\\\"Pittsburgh Dad\\\\\" would love this place n\\'at!!']"
      ]
     },
     "execution_count": 13,
     "metadata": {},
     "output_type": "execute_result"
    }
   ],
   "source": [
    "[*data['text'][:5]]"
   ]
  },
  {
   "cell_type": "code",
   "execution_count": 14,
   "id": "82077f34-4fee-4959-991b-dee2fd92e6eb",
   "metadata": {},
   "outputs": [
    {
     "data": {
      "text/plain": [
       "['unfortunately frustration dr goldberg patient repeat experience many doctors nyc good doctor terrible staff seems staff simply never answers phone usually takes hours repeated calling get answer time wants deal run problem many doctors not get office workers patients medical needs not anyone answering phone incomprehensible not work aggravation regret feel give dr goldberg stars',\n",
       " 'going dr goldberg over years think one st patients started mhmg great over years really big picture not former gyn dr markoff found fibroids explores options very patient understanding not judge asks right questions very thorough wants kept loop every aspect medical health life',\n",
       " 'not know dr goldberg like moving arizona but let tell stay away doctor office going dr johnson left goldberg took over johnson left not caring doctor interested co pay come medication refills every month not give refills could less patients financial situations trying get days mail away pharmacy prescriptions guy joke make matters even worse office staff incompetent time call office put voice mail no one ever answers returns call adult children husband decided leave practice experiencing frustration entire office attitude like favor give break stay away doc practice deserve better not really need never felt compelled write bad review anyone met pathetic excuse doctor money',\n",
       " 'writing review give heads up see doctor office staff administration very unprofessional left message multiple people regarding bill no one ever called back hound get answer bill second most important make sure insurance going cover dr goldberg visits blood work recommended get physical knew student told got physical done later found health insurance not pay preventative visits received bill blood work cannot pay bill student not cash flow current time cannot believe doctor would not give heads up make sure insurance would cover work not necessary strictly preventative office cannot anything help cover bill addition office staff said onus make sure insurance covers visits frustrating situation',\n",
       " 'food great but best thing wings wings simply fantastic wet cajun best most popular also like seasoned salt wings wing night monday wednesday night whole wings dining area nice very family friendly bar very nice well place truly yinzer dream pittsburgh dad would love place']"
      ]
     },
     "execution_count": 14,
     "metadata": {},
     "output_type": "execute_result"
    }
   ],
   "source": [
    "[*train_preprocessed['text'][:5]]"
   ]
  },
  {
   "cell_type": "code",
   "execution_count": 15,
   "id": "f8d12e38-eba6-4af5-80db-03db29eae60a",
   "metadata": {},
   "outputs": [
    {
     "data": {
      "text/plain": [
       "((740000,), (740000,))"
      ]
     },
     "execution_count": 15,
     "metadata": {},
     "output_type": "execute_result"
    }
   ],
   "source": [
    "x_train_preprocessed = train_preprocessed['text'].copy()\n",
    "y_train_preprocessed = train_preprocessed['rating'].copy()\n",
    "x_train_preprocessed.shape, y_train_preprocessed.shape"
   ]
  },
  {
   "cell_type": "code",
   "execution_count": 16,
   "id": "0df6d873-41de-4a9f-bea9-fde03969ffc3",
   "metadata": {},
   "outputs": [],
   "source": [
    "del(data)\n",
    "del(train_preprocessed)"
   ]
  },
  {
   "cell_type": "markdown",
   "id": "77d8330a-59f6-41f6-b9a4-4b9ef8f152d3",
   "metadata": {},
   "source": [
    "<h2> Analyze no. of words/tokens in texts"
   ]
  },
  {
   "cell_type": "code",
   "execution_count": 17,
   "id": "7ac7ec14-a0da-486d-9e82-13a7a38f706b",
   "metadata": {},
   "outputs": [],
   "source": [
    "n_words_x_train = pd.Series([len(t.split(\" \")) for t in x_train_preprocessed])"
   ]
  },
  {
   "cell_type": "code",
   "execution_count": 18,
   "id": "70c5fe1d-e3b1-440e-bd6c-26dabed2f3a5",
   "metadata": {},
   "outputs": [
    {
     "data": {
      "text/plain": [
       "count    740000.000000\n",
       "mean         63.651431\n",
       "std          58.782984\n",
       "min           1.000000\n",
       "25%          26.000000\n",
       "50%          47.000000\n",
       "75%          80.000000\n",
       "max         669.000000\n",
       "dtype: float64"
      ]
     },
     "execution_count": 18,
     "metadata": {},
     "output_type": "execute_result"
    }
   ],
   "source": [
    "n_words_x_train.describe()"
   ]
  },
  {
   "cell_type": "code",
   "execution_count": 19,
   "id": "e7111c23-f1ac-4d29-9ff4-b4147e1f398a",
   "metadata": {},
   "outputs": [
    {
     "data": {
      "text/plain": [
       "11.0"
      ]
     },
     "execution_count": 19,
     "metadata": {},
     "output_type": "execute_result"
    }
   ],
   "source": [
    "n_words_x_train.quantile(0.05)"
   ]
  },
  {
   "cell_type": "code",
   "execution_count": 20,
   "id": "ad5720b0-329a-46e8-8ff7-ab54aeea6ee2",
   "metadata": {},
   "outputs": [
    {
     "data": {
      "text/plain": [
       "132.0"
      ]
     },
     "execution_count": 20,
     "metadata": {},
     "output_type": "execute_result"
    }
   ],
   "source": [
    "n_words_x_train.quantile(0.9)"
   ]
  },
  {
   "cell_type": "code",
   "execution_count": 21,
   "id": "45f7eed3-40c7-4872-9c4f-e9b090f43273",
   "metadata": {},
   "outputs": [
    {
     "data": {
      "text/plain": [
       "1    370000\n",
       "2    370000\n",
       "Name: rating, dtype: int64"
      ]
     },
     "execution_count": 21,
     "metadata": {},
     "output_type": "execute_result"
    }
   ],
   "source": [
    "y_train_preprocessed.value_counts()"
   ]
  },
  {
   "cell_type": "code",
   "execution_count": 22,
   "id": "e637c667-ec76-4623-9de4-82195cfd0672",
   "metadata": {},
   "outputs": [
    {
     "data": {
      "text/plain": [
       "0    unfortunately frustration dr goldberg patient ...\n",
       "1    going dr goldberg over years think one st pati...\n",
       "2    not know dr goldberg like moving arizona but l...\n",
       "3    writing review give heads up see doctor office...\n",
       "4    food great but best thing wings wings simply f...\n",
       "5    wing sauce like water pretty much lot butter s...\n",
       "6    owning driving range inside city limits like l...\n",
       "7    place absolute garbage half tees not available...\n",
       "8    finally made over range heard thing most peopl...\n",
       "9    drove yesterday get sneak peak re opens july t...\n",
       "Name: text, dtype: object"
      ]
     },
     "execution_count": 22,
     "metadata": {},
     "output_type": "execute_result"
    }
   ],
   "source": [
    "x_train_preprocessed[:10]"
   ]
  },
  {
   "cell_type": "code",
   "execution_count": 23,
   "id": "5321cfff-5670-41a2-9983-20b90260a5b1",
   "metadata": {},
   "outputs": [
    {
     "data": {
      "text/plain": [
       "0    1\n",
       "1    2\n",
       "2    1\n",
       "3    1\n",
       "4    2\n",
       "5    1\n",
       "6    1\n",
       "7    1\n",
       "8    2\n",
       "9    2\n",
       "Name: rating, dtype: int64"
      ]
     },
     "execution_count": 23,
     "metadata": {},
     "output_type": "execute_result"
    }
   ],
   "source": [
    "y_train_preprocessed[:10]"
   ]
  },
  {
   "cell_type": "code",
   "execution_count": 24,
   "id": "8b45afbc-e30d-44ef-aede-72509e48900b",
   "metadata": {},
   "outputs": [],
   "source": [
    "tokenizer = Tokenizer()"
   ]
  },
  {
   "cell_type": "code",
   "execution_count": 25,
   "id": "09f7ac9a-aa07-4939-bf0f-2846a0631dc0",
   "metadata": {},
   "outputs": [],
   "source": [
    "tokenizer.fit_on_texts(x_train_preprocessed)"
   ]
  },
  {
   "cell_type": "code",
   "execution_count": 26,
   "id": "733a8a93-b33d-4116-b1c1-1b1450ae97ee",
   "metadata": {},
   "outputs": [],
   "source": [
    "word_index = pd.DataFrame(tokenizer.word_index, index=[0]).T.reset_index()\n",
    "word_index.columns = ['word', 'index']"
   ]
  },
  {
   "cell_type": "code",
   "execution_count": 27,
   "id": "e1426ef0-ce4c-45f2-8f94-d901aa70d6fb",
   "metadata": {},
   "outputs": [],
   "source": [
    "word_count = pd.DataFrame(tokenizer.word_counts, index=[0]).T.reset_index()\n",
    "word_count.columns = ['word', 'count']"
   ]
  },
  {
   "cell_type": "code",
   "execution_count": 28,
   "id": "e426b348-998e-48ef-9b32-f41de3aa6620",
   "metadata": {},
   "outputs": [],
   "source": [
    "word_data = word_index.merge(right=word_count, on=\"word\", how=\"inner\")"
   ]
  },
  {
   "cell_type": "code",
   "execution_count": 29,
   "id": "700d1447-59a8-4248-bfaa-1b776f82b0d5",
   "metadata": {},
   "outputs": [],
   "source": [
    "word_data.sort_values(by=\"count\", ascending=False, inplace=True)"
   ]
  },
  {
   "cell_type": "code",
   "execution_count": 30,
   "id": "919eac14-c506-4e04-8655-b10a2a2d0b1f",
   "metadata": {},
   "outputs": [
    {
     "data": {
      "text/html": [
       "<div>\n",
       "<style scoped>\n",
       "    .dataframe tbody tr th:only-of-type {\n",
       "        vertical-align: middle;\n",
       "    }\n",
       "\n",
       "    .dataframe tbody tr th {\n",
       "        vertical-align: top;\n",
       "    }\n",
       "\n",
       "    .dataframe thead th {\n",
       "        text-align: right;\n",
       "    }\n",
       "</style>\n",
       "<table border=\"1\" class=\"dataframe\">\n",
       "  <thead>\n",
       "    <tr style=\"text-align: right;\">\n",
       "      <th></th>\n",
       "      <th>word</th>\n",
       "      <th>index</th>\n",
       "      <th>count</th>\n",
       "    </tr>\n",
       "  </thead>\n",
       "  <tbody>\n",
       "    <tr>\n",
       "      <th>0</th>\n",
       "      <td>not</td>\n",
       "      <td>1</td>\n",
       "      <td>1181685</td>\n",
       "    </tr>\n",
       "    <tr>\n",
       "      <th>1</th>\n",
       "      <td>but</td>\n",
       "      <td>2</td>\n",
       "      <td>680024</td>\n",
       "    </tr>\n",
       "    <tr>\n",
       "      <th>2</th>\n",
       "      <td>good</td>\n",
       "      <td>3</td>\n",
       "      <td>345376</td>\n",
       "    </tr>\n",
       "    <tr>\n",
       "      <th>3</th>\n",
       "      <td>food</td>\n",
       "      <td>4</td>\n",
       "      <td>337372</td>\n",
       "    </tr>\n",
       "    <tr>\n",
       "      <th>4</th>\n",
       "      <td>place</td>\n",
       "      <td>5</td>\n",
       "      <td>327489</td>\n",
       "    </tr>\n",
       "    <tr>\n",
       "      <th>...</th>\n",
       "      <td>...</td>\n",
       "      <td>...</td>\n",
       "      <td>...</td>\n",
       "    </tr>\n",
       "    <tr>\n",
       "      <th>2127</th>\n",
       "      <td>mon</td>\n",
       "      <td>2128</td>\n",
       "      <td>3018</td>\n",
       "    </tr>\n",
       "    <tr>\n",
       "      <th>2128</th>\n",
       "      <td>fight</td>\n",
       "      <td>2129</td>\n",
       "      <td>3013</td>\n",
       "    </tr>\n",
       "    <tr>\n",
       "      <th>2129</th>\n",
       "      <td>hollywood</td>\n",
       "      <td>2130</td>\n",
       "      <td>3009</td>\n",
       "    </tr>\n",
       "    <tr>\n",
       "      <th>2130</th>\n",
       "      <td>chunks</td>\n",
       "      <td>2131</td>\n",
       "      <td>3007</td>\n",
       "    </tr>\n",
       "    <tr>\n",
       "      <th>2131</th>\n",
       "      <td>miso</td>\n",
       "      <td>2132</td>\n",
       "      <td>3003</td>\n",
       "    </tr>\n",
       "  </tbody>\n",
       "</table>\n",
       "<p>2132 rows × 3 columns</p>\n",
       "</div>"
      ],
      "text/plain": [
       "           word  index    count\n",
       "0           not      1  1181685\n",
       "1           but      2   680024\n",
       "2          good      3   345376\n",
       "3          food      4   337372\n",
       "4         place      5   327489\n",
       "...         ...    ...      ...\n",
       "2127        mon   2128     3018\n",
       "2128      fight   2129     3013\n",
       "2129  hollywood   2130     3009\n",
       "2130     chunks   2131     3007\n",
       "2131       miso   2132     3003\n",
       "\n",
       "[2132 rows x 3 columns]"
      ]
     },
     "execution_count": 30,
     "metadata": {},
     "output_type": "execute_result"
    }
   ],
   "source": [
    "word_data.loc[word_data['count'] > 3000]"
   ]
  },
  {
   "cell_type": "code",
   "execution_count": 31,
   "id": "87125434-2733-4520-b374-937fa7d427b8",
   "metadata": {},
   "outputs": [
    {
     "data": {
      "text/plain": [
       "['not',\n",
       " 'but',\n",
       " 'good',\n",
       " 'food',\n",
       " 'place',\n",
       " 'would',\n",
       " 'like',\n",
       " 'one',\n",
       " 'very',\n",
       " 'get',\n",
       " 'great',\n",
       " 'up',\n",
       " 'time',\n",
       " 'no',\n",
       " 'service']"
      ]
     },
     "execution_count": 31,
     "metadata": {},
     "output_type": "execute_result"
    }
   ],
   "source": [
    "considered_words = word_data.loc[word_data['count'] > 3000, 'word'] # considering words with count > 3000 ~ 0.5% of doc count\n",
    "considered_words = [*considered_words]\n",
    "considered_words[:15]"
   ]
  },
  {
   "cell_type": "code",
   "execution_count": 32,
   "id": "6dff9c51-ab49-496c-ae02-71780679ce2e",
   "metadata": {},
   "outputs": [
    {
     "data": {
      "text/plain": [
       "0         unfortunately frustration dr goldberg patient ...\n",
       "1         going dr goldberg over years think one st pati...\n",
       "2         not know dr goldberg like moving arizona but l...\n",
       "3         writing review give heads up see doctor office...\n",
       "4         food great but best thing wings wings simply f...\n",
       "                                ...                        \n",
       "739995    bought similar portable dvd player polaroid am...\n",
       "739996    great book people wanting get programming wind...\n",
       "739997    dionne warwick scepter label originally releas...\n",
       "739998    book arrived condition described dealer deligh...\n",
       "739999    product seems fine but ordered wrong thing wan...\n",
       "Name: text, Length: 740000, dtype: object"
      ]
     },
     "execution_count": 32,
     "metadata": {},
     "output_type": "execute_result"
    }
   ],
   "source": [
    "x_train_preprocessed"
   ]
  },
  {
   "cell_type": "markdown",
   "id": "4c502ff4-d9c8-4872-9d58-4a37c6c36e16",
   "metadata": {},
   "source": [
    "<h2>Finding frequency of considered words in each doc"
   ]
  },
  {
   "cell_type": "code",
   "execution_count": 33,
   "id": "48cfcd73-dcac-49fb-9b3d-13e50af26163",
   "metadata": {},
   "outputs": [
    {
     "name": "stderr",
     "output_type": "stream",
     "text": [
      "100%|████████████████████████████████████████████████████████████████████████| 740000/740000 [09:18<00:00, 1324.72it/s]\n"
     ]
    }
   ],
   "source": [
    "# num_considered_words = []\n",
    "# for i in tqdm(range(len(x_train_preprocessed))):\n",
    "#     cnt = 0\n",
    "#     for j in x_train_preprocessed[i].split():\n",
    "#         if j in considered_words:\n",
    "#             cnt += 1\n",
    "#     num_considered_words.append(cnt)"
   ]
  },
  {
   "cell_type": "code",
   "execution_count": 34,
   "id": "47eb78ac-f49a-4de7-91c9-2027285a84bb",
   "metadata": {},
   "outputs": [],
   "source": [
    "# num_considered_words = np.array(num_considered_words)"
   ]
  },
  {
   "cell_type": "code",
   "execution_count": 36,
   "id": "7ab6780b-2e7f-4ce0-9b13-fbd72d540884",
   "metadata": {},
   "outputs": [
    {
     "name": "stdout",
     "output_type": "stream",
     "text": [
      "234\n",
      "58988\n"
     ]
    }
   ],
   "source": [
    "# print(len(np.where(num_considered_words==0)[0])) # 254 has 0 words\n",
    "# print(len(np.where(num_considered_words<=10)[0])) # 58988 has 10 or less words"
   ]
  },
  {
   "cell_type": "code",
   "execution_count": 37,
   "id": "2a32da3e-81a2-435a-a197-ad8ed1fe3cc8",
   "metadata": {},
   "outputs": [],
   "source": [
    "# idx_having_considered_words = np.where(num_considered_words>0)[0]"
   ]
  },
  {
   "cell_type": "code",
   "execution_count": 38,
   "id": "75ec3d1c-c670-43d2-a075-4ea0c7be21dd",
   "metadata": {},
   "outputs": [
    {
     "data": {
      "text/plain": [
       "739766"
      ]
     },
     "execution_count": 38,
     "metadata": {},
     "output_type": "execute_result"
    }
   ],
   "source": [
    "# len(idx_having_considered_words) # no of docs having atleast 1 considered word"
   ]
  },
  {
   "cell_type": "code",
   "execution_count": 39,
   "id": "0a5d6338-1b60-4a01-91b3-1fd3a6ca8b51",
   "metadata": {},
   "outputs": [
    {
     "data": {
      "text/plain": [
       "234"
      ]
     },
     "execution_count": 39,
     "metadata": {},
     "output_type": "execute_result"
    }
   ],
   "source": [
    "# idx_not_having_considered_words = np.where(num_considered_words == 0)[0]\n",
    "# len(idx_not_having_considered_words) # no of docs without atleast 1 consdered word"
   ]
  },
  {
   "cell_type": "code",
   "execution_count": 40,
   "id": "6c32d8fb-10d2-4bf9-afdf-b95e5c0f4460",
   "metadata": {},
   "outputs": [
    {
     "data": {
      "text/plain": [
       "['hoofah',\n",
       " 'ewwww',\n",
       " 'iga',\n",
       " 'consumer alert rats',\n",
       " 'exquisite',\n",
       " 'booooo',\n",
       " 'cluster',\n",
       " 'eeeeeeewwwwwwwwwwwwwwwwww',\n",
       " 'eh',\n",
       " 'tor ti llas delicioso andale mi amgos',\n",
       " 'trashy rag besmirches heroes crossed ad revenue plummets',\n",
       " 'ihana paikka hieman phoenixin keskustan ulkopuolella farm tarjoaa freesej herkullisia salaatteja sek maukkaita sandwicheja ja tietenkin laajan valikoiman erilaisia lkiruokaherkkuja ainekset ovat tuoreita suoraan omalta tilalta tuotuja palvelu yst llist ja tunnelma todella viihtyis ruokailun lkeen voi viett hetken vellen pekaanipuulehdossa paikassa voi rjest vaikka juhlia pime ll paikkaa valaisevat pekaanipuiden leille riputetut sadat hehkulamput',\n",
       " 'stunning foliage bitey',\n",
       " 'eh',\n",
       " 'deliciousness',\n",
       " 'meth',\n",
       " 'yumm',\n",
       " 'fond memories',\n",
       " 'bomb',\n",
       " 'deleted',\n",
       " 'wal mart',\n",
       " 'df ea ef fd ea',\n",
       " 'ew',\n",
       " 'grosss',\n",
       " 'bros',\n",
       " 'nieces blast sever',\n",
       " 'quoth theyerg nevermore',\n",
       " 'vvvvvvvvvveeeeeeeerrrrrryyyyyyyyyyyyy sssssssssssslllllllllllllllllooooooooooooooooowwwwwwwwwwwwwwwwwww',\n",
       " 'overhyped',\n",
       " 'flights delayed aaaaaaaaaa',\n",
       " 'mcdonalds',\n",
       " 'ghetto',\n",
       " 'tooo pricy',\n",
       " 'umm',\n",
       " 'smoca divine',\n",
       " 'burned calzone',\n",
       " 'yuk yuk yuk',\n",
       " 'dhsushebebduebeusbduebeebdudbdjdbdjdd',\n",
       " 'shitty',\n",
       " 'ewww',\n",
       " 'boop',\n",
       " 'depressing',\n",
       " 'da bomb',\n",
       " 'geh toe',\n",
       " 'dreadful',\n",
       " 'gloppy',\n",
       " 'electric daisy carnival jealous',\n",
       " 'dosas',\n",
       " 'epic',\n",
       " 'awsome',\n",
       " 'keno goooooooooooooood won',\n",
       " 'puke',\n",
       " 'fetalicioius',\n",
       " 'da bomb',\n",
       " 'mmmmmm',\n",
       " 'oily',\n",
       " 'michael gal',\n",
       " 'elephants',\n",
       " 'blech',\n",
       " 'dump',\n",
       " 'overcrowded overrated',\n",
       " 'excellence',\n",
       " 'aaaa',\n",
       " 'yumm',\n",
       " 'pathetic',\n",
       " 'oks',\n",
       " 'prepare underwhelmed',\n",
       " 'haha pheast',\n",
       " 'ow ow ow ow ow ow ow ow ow ow ow ow ow ow ow ow ow ow ow ow ow ow ow ow ow ow ow ow ow ow ow ow ow ow ow ow ow ow ow ow ow ow ow ow ow ow ow ow ow ow ow ow ow ow ow ow ow ow ow ow ow ow ow ow ow ow ow ow ow ow ow ow ow ow ow ow ow ow ow ow ow ow ow ow ow ow ow ow ow ow ow ow ow ow ow ow ow ow ow ow ow ow ow ow ow ow ow ow ow ow ow ow ow ow ow ow ow ow ow ow ow ow ow ow',\n",
       " 'yup',\n",
       " 'meatloaf unbelievable',\n",
       " 'bomb',\n",
       " 'dump',\n",
       " 'delicioso',\n",
       " 'nooooooooooo',\n",
       " 'ec ff uff ef ee uff fae fae ec fd uff ed',\n",
       " 'bang buck',\n",
       " 'yuck',\n",
       " 'overrated imho',\n",
       " 'lie lie church breeds atheists',\n",
       " 'eww',\n",
       " 'yuck',\n",
       " 'greta hoagies',\n",
       " 'hijo jkkkc hace vbjjb',\n",
       " 'cheezy nightmare',\n",
       " 'rea awesomeness',\n",
       " 'ruff million fs',\n",
       " 'palabra',\n",
       " 'overrated',\n",
       " 'eh',\n",
       " 'droooool',\n",
       " 'yyyuuummmmmmyyy',\n",
       " 'lone ranger xd extreme digital',\n",
       " 'amazeballs',\n",
       " 'jizz tasic',\n",
       " 'satan playground',\n",
       " 'mmmmmmmmmmmmmmmmmmmmmmmmmmmmmmmmmmmmmmmmmmmmmmmmmmmmmmmmmmmmmmmmmmmmmmmmmmmmmmmmmmmmmmmmmmmmmmmmmmmmmmmmmmmmmmmm',\n",
       " 'obnoxious',\n",
       " 'firrrre hazaaaaaaaaaaaard',\n",
       " 'mmmm',\n",
       " 'mmmmmmmmmmmmmmmmmmmmmmmmmmwowmmmmmmmmmmmmmmmmmmmmmmmmmmmmmmmmmmmmmmmmmmmmmmmmwowwowowwowmmmmmmmmmmmmmmmwowsoihavebeenseeing starreviewsforthisplaceforsolongihadtotryitmmmmmmmmmmmmmmmmmmmwowmmmmmmmmmmmmmmmmmmmmmmmmmmmmmmmmmmmmmmmyfriendkevinhwastryingtoexplainsweetrepublic sawesomenessandwhenhegottothepointoftwitteringoneoftheownerstomakesurehenabbedthelastofaflavoriknewihadtofindoutwhateveryoneisobsessingaboutmmmmmmmmmmmmmmmmmmmmmmmmmmmmmmmmmmmmmmmmmmmwowmmmmmmmmmmmmmmmmmmmmmmmmmmmmmmhelenandjanweresonicemmmmmmmmmmmmmmmmmmmmwowmmmmmmmmmmmmmmmmmmmmmmmmwowmmmmmmmmmmmmmmmmmjanrecommendedthecombinationofmayanchocolatewithavacadojalapenoholycrapthatwassomekindofotherworldlyflavormmmmmmmmmmmmmmmmmmmmmmmmwowmmmmmmmmmmmmmmmmmmmmmmmmwecannotwaittogobackmmmmmmmmmmmmmmmmmmmmmmmmwowmmmmmmmmmmmmmmmmmmmmmmmmmmmmmmmmmmmmmmmmmmmialsohadtheespressoitwasgreataswellmmmmmmmmmmmmmmmohgawdmmmmmmmmmmmmwowmmmmmmmmmmmmmmmmmmmmmmmmmmmmmmmmmmmmmmmm mmmmmmmmmmmmmmmmmmmmmmmmmmmmmmmmmmmmmmtheroquefortwithmedjooldateswasunbelievablealsommmmmmmmmmmmmmmmmmmmmmmmmmmmmmmmmmmmmmmmmmmwowmmmmmmwhilewewereeatingouricecreamhelenwashandmakingwaffleconesthesepeoplereallytakeprideinthecraftingoftheproductstheysellmmmmmmmmmmmmmmmmmmmmmmmmmmmmmmmmmmmmmmmmmmmmmmmmmmmmmmmmmmmmmmmmmmmmmmmmmmmmmmmmmmmmmmmmmmmmmmmmmmmmmmmmmmmwowmmmmmmthisplaceisafoodiedestinationnottobemissedinanymajorcitymmmmmmmmmmmmmmmmmmmmmmmmmmmmmmmmmmmwowmmmmmmmmmmifidid notliveinphoenixiwouldarrangelayoversherejusttogotosweetrepublicmmmmmmmmmmmmmmmmmmmmmmmmmmmmmmmmmmmmmmmmmmmmihavetogogetapintoftheavacadojalapenonowbyemmmmmmmmmmmmmmmmmmmmmmmmmmmmmmmmmmmmmwowmmmmmmmmmmmmmmmmmmmmmmmmmmmmmmmmmmmmmmmmmmmmmmmmmmmmmmmmmmmmmmmmmmmmmmmmmmmmmmmmmmmmmmmmmmmmmmmmmmmmmmmmmmmmmmmmmmmmmmwow',\n",
       " 'dosas',\n",
       " 'nm',\n",
       " 'pound cashews',\n",
       " 'horrid',\n",
       " 'riding bull',\n",
       " 'absolument divin',\n",
       " 'resto ferme',\n",
       " 'beach bod progress',\n",
       " 'absolument fantastique',\n",
       " 'crossiants fuck yea',\n",
       " 'poppy seed babka thurs fri',\n",
       " 'blackout',\n",
       " 'ditto',\n",
       " 'mice infestation pics',\n",
       " 'adore',\n",
       " 'belle soir avec des ami',\n",
       " 'excelente sitio para compartir una tarde con los amigos con excelente caf postres',\n",
       " 'pas vraiment bon des frites pas cuites dans une poutine ne fait pas tr professionnel allons ailleurs',\n",
       " 'mouai',\n",
       " 'ludo',\n",
       " 'dislike',\n",
       " 'aspires mediocrity',\n",
       " 'sehr guter kaffe',\n",
       " 'bleuch',\n",
       " 'waitrose',\n",
       " 'manhattan',\n",
       " 'bitchin',\n",
       " 'noice',\n",
       " 'medicore',\n",
       " 'eg',\n",
       " 'impresionante espect culo',\n",
       " 'somtum kung zapverrrrrrrr kaa',\n",
       " 'legit',\n",
       " 'sux',\n",
       " 'bleh',\n",
       " 'yuck',\n",
       " 'yogurtland',\n",
       " 'smokey',\n",
       " 'pizookie',\n",
       " 'bof',\n",
       " 'whatevers',\n",
       " 'tourist trap',\n",
       " 'political uhg',\n",
       " 'wack',\n",
       " 'besy',\n",
       " 'walmart',\n",
       " 'sigh',\n",
       " 'nt',\n",
       " 'ehh',\n",
       " 'pancake fluffiest',\n",
       " 'awsome',\n",
       " 'microwave styrofoam',\n",
       " 'tang na dats goooood',\n",
       " 'terrific',\n",
       " 'mcdonalds',\n",
       " 'mmmmm',\n",
       " 'fireplace',\n",
       " 'bequeme umgebung guter preis idealer treffpunkt fcr studenten meine lieblingsspeise bei kippe ist schnipo',\n",
       " 'gibt nichts zu meckern',\n",
       " 'schmackhafte speisen aber nicht scharf zur fcckhaltende bedienung sehr nett gerne bald wieder',\n",
       " 'fcr das essen zu teuer geschmack unterer durchschnitt ct fcr rot weiss einem kleinen sch lchen hallo daf fcr gehts mit dem essen recht schnell wenn mal keine schlange der kasse ist bedingt empfehlenswert',\n",
       " 'schlange stehen morgens mittags abends nachts dank eher langsamer mitarbeiter gerne auch mal ein wenig nger',\n",
       " 'sehr lecker sehr gutes essen kleine aber gute speisekarte preise llig ordnung gerne wieder',\n",
       " 'ich durfte hier unangemeldet auf durchreise einem sehr sch nen zimmer residieren bedanke mich vollem umfang fcr ihre fcberaus freundliche gastfreundlichkeit fcr den netten empfang',\n",
       " 'inzwischen dauerhaft geschlossen',\n",
       " 'bleh',\n",
       " 'mmmmmmmm',\n",
       " 'crave furikake sooooo ono',\n",
       " 'rub',\n",
       " 'missy rules',\n",
       " 'bla',\n",
       " 'eww ewww',\n",
       " 'bingo',\n",
       " 'error',\n",
       " 'malisimo caro',\n",
       " 'marquee pretentious',\n",
       " 'lo',\n",
       " 'official spoon collector sigh',\n",
       " 'error prone',\n",
       " 'hilarious',\n",
       " 'pretzel cone',\n",
       " 'levels',\n",
       " 'freaking legit',\n",
       " 'simplemente delicioso',\n",
       " 'freshest',\n",
       " 'fav',\n",
       " 'dig',\n",
       " 'ein brutaler vorgeschmack auf sinnloses geld rausschmei dfen',\n",
       " 'tail spin',\n",
       " 'ef ee cbb da uff ede dc ea fd feb ef ee dc uff eda fd eba eb efd cf uff uff fa efb ed uff dc ebb aa uff cf aa cbe ac uff ee eba bb ef ef ee aaa ea ef cf uff da aaa uff ce fd uff fbf uff bc df aaa',\n",
       " 'mrrf',\n",
       " 'bon resto indien bon rapport qualit prix',\n",
       " 'ghetto',\n",
       " 'ehhhhhhhhhh',\n",
       " 'afraid',\n",
       " 'gooood',\n",
       " 'vomit',\n",
       " 'excelent',\n",
       " 'bomb',\n",
       " 'essen geschmacklos unfreundliche unaufmerksame bedienung',\n",
       " 'hhhhh',\n",
       " 'james fox bomb ba bomb bomb bomb',\n",
       " 'formidable minuscule resto attachante proprio surtout licieux prassopita bient',\n",
       " 'drau dfen sitzen ist kein muss sehr laut aber der falafel ist unschlagbar',\n",
       " 'yuck',\n",
       " 'currywurst essen mit stil',\n",
       " 'tte mir mehr kundenservice gew fcnscht',\n",
       " 'sloooooow',\n",
       " 'thieves',\n",
       " 'dig',\n",
       " 'dump',\n",
       " 'bomb',\n",
       " 'sasha bomb diggity',\n",
       " 'dnsjdhcdn',\n",
       " 'boo',\n",
       " 'oky',\n",
       " 'das wohl ungew hnlichste caf karlsruhe sehr spannende raumgestaltung',\n",
       " 'retracted',\n",
       " 'bestes fleisch frische zutaten schnell kundenfreundlich ich erlebe es schon mehr als jahre',\n",
       " 'auch diese sauna ist zu beachten geht hin ihr werdet es sicherlich nicht verachten',\n",
       " 'innenraum etwas karg essen umso besser',\n",
       " 'hated',\n",
       " 'gg',\n",
       " 'ao ia ssaue oii ooiiia ao aia ai',\n",
       " 'swift magic guitar satriani johnson vai strenuous musicians',\n",
       " 'hola como estan gustaria comprar este libro porque es lo mejor lo buscado por mucho tiemporicardo corona elko net',\n",
       " 'gggg chu chu wooah comon chu wooah ggg chuchu chuchu wooah wooah wooah chuyou comon wakarakataka groooarr mu mu mu comon chu wooooooah blep blod clop cachumba',\n",
       " 'una pelicula muy interesante donde maria conchita alonso interpreta una villana muy bien caracterizada buena historia',\n",
       " 'daha onca omuzdan askili canta kullaniyordum omuzlarim kopuyordu bunu aldim ve acayip rahatladim kurusuna degdi dogrusu cokda ucuzdu bence',\n",
       " 'gir eit godt bilete av eit svaert saa kommersielt ekspedisjonsmiljoe kanskje forfattaren burde ha venta litt lengre foer han starta med aa skrive boka anbefales',\n",
       " 'teterriffic terriffic terriffic terriffic terriffic terriffic terriffic terriffic terriffic terriffic terriffic terriffic',\n",
       " 'tkt cjfio jf ivhgjvkyposkto yporvokivtrocmjtivslthisisacodevr jrt tju rtjrclgptijuigi iritidjroagoodgameij ituveujytuvncmtuh tufbuyyesctu ytvwucmqu uytptwi rcuriwetheend',\n",
       " 'incorrect qmb engine mmm mmmm mmmm mmmm mmmm mmmm mmmm mmmm mmmm mmmm mmmm mmmm mmmm mmmm']"
      ]
     },
     "execution_count": 40,
     "metadata": {},
     "output_type": "execute_result"
    }
   ],
   "source": [
    "# [*x_train_preprocessed[idx_not_having_considered_words]] # docs without atleast 1 consdered word"
   ]
  },
  {
   "cell_type": "code",
   "execution_count": 41,
   "id": "76cf1305-dfae-4e3c-a09d-4c03c14ad035",
   "metadata": {},
   "outputs": [],
   "source": [
    "# saving considered words array for future use\n",
    "# with open(\"idx_considered_words.npy\", \"wb\") as f:\n",
    "#     cloudpickle.dump(idx_having_considered_words, f)\n",
    "\n",
    "with open(\"idx_considered_words.npy\", \"rb\") as f:\n",
    "    idx_having_considered_words = cloudpickle.load(f)    "
   ]
  },
  {
   "cell_type": "code",
   "execution_count": 42,
   "id": "d5e3e660-d699-46a1-aa8e-949b698e158a",
   "metadata": {},
   "outputs": [
    {
     "data": {
      "text/plain": [
       "array([     0,      1,      2, ..., 739997, 739998, 739999], dtype=int64)"
      ]
     },
     "execution_count": 42,
     "metadata": {},
     "output_type": "execute_result"
    }
   ],
   "source": [
    "idx_having_considered_words"
   ]
  },
  {
   "cell_type": "code",
   "execution_count": 43,
   "id": "9f02641f-0111-40e9-91d6-38848606106e",
   "metadata": {},
   "outputs": [
    {
     "data": {
      "text/plain": [
       "739766"
      ]
     },
     "execution_count": 43,
     "metadata": {},
     "output_type": "execute_result"
    }
   ],
   "source": [
    "x_train_preprocessed = x_train_preprocessed[idx_having_considered_words].copy() # removing docs with no considered words\n",
    "len(x_train_preprocessed)"
   ]
  },
  {
   "cell_type": "code",
   "execution_count": 44,
   "id": "a6083f4a-66b7-46b3-a38a-cdeecd7ab5c8",
   "metadata": {},
   "outputs": [
    {
     "data": {
      "text/plain": [
       "739766"
      ]
     },
     "execution_count": 44,
     "metadata": {},
     "output_type": "execute_result"
    }
   ],
   "source": [
    "y_train_preprocessed = y_train_preprocessed[idx_having_considered_words].copy()\n",
    "len(y_train_preprocessed)"
   ]
  },
  {
   "cell_type": "code",
   "execution_count": 45,
   "id": "6b977638-7128-4276-a540-c7c2d7772c28",
   "metadata": {},
   "outputs": [
    {
     "data": {
      "text/plain": [
       "0         1\n",
       "1         2\n",
       "2         1\n",
       "3         1\n",
       "4         2\n",
       "         ..\n",
       "739995    1\n",
       "739996    2\n",
       "739997    2\n",
       "739998    2\n",
       "739999    1\n",
       "Name: rating, Length: 739766, dtype: int64"
      ]
     },
     "execution_count": 45,
     "metadata": {},
     "output_type": "execute_result"
    }
   ],
   "source": [
    "y_train_preprocessed"
   ]
  },
  {
   "cell_type": "code",
   "execution_count": 46,
   "id": "5e416118-7100-495f-8b53-8f0976739c2e",
   "metadata": {},
   "outputs": [],
   "source": [
    "y_train_preprocessed[y_train_preprocessed == 1] = 0\n",
    "y_train_preprocessed[y_train_preprocessed == 2] = 1"
   ]
  },
  {
   "cell_type": "code",
   "execution_count": 47,
   "id": "df6f1428-191e-4292-9b10-c0205499063e",
   "metadata": {},
   "outputs": [
    {
     "data": {
      "text/plain": [
       "0         0\n",
       "1         1\n",
       "2         0\n",
       "3         0\n",
       "4         1\n",
       "         ..\n",
       "739995    0\n",
       "739996    1\n",
       "739997    1\n",
       "739998    1\n",
       "739999    0\n",
       "Name: rating, Length: 739766, dtype: int64"
      ]
     },
     "execution_count": 47,
     "metadata": {},
     "output_type": "execute_result"
    }
   ],
   "source": [
    "y_train_preprocessed"
   ]
  },
  {
   "cell_type": "code",
   "execution_count": 48,
   "id": "9af8e5d6-49ba-4b78-88bd-5136df866eb1",
   "metadata": {},
   "outputs": [
    {
     "data": {
      "text/plain": [
       "1    369891\n",
       "0    369875\n",
       "Name: rating, dtype: int64"
      ]
     },
     "execution_count": 48,
     "metadata": {},
     "output_type": "execute_result"
    }
   ],
   "source": [
    "y_train_preprocessed.value_counts()"
   ]
  },
  {
   "cell_type": "code",
   "execution_count": 49,
   "id": "aa8e2510-8bea-4235-ab22-51edf86548f2",
   "metadata": {},
   "outputs": [
    {
     "data": {
      "text/plain": [
       "0         unfortunately frustration dr goldberg patient ...\n",
       "1         going dr goldberg over years think one st pati...\n",
       "2         not know dr goldberg like moving arizona but l...\n",
       "3         writing review give heads up see doctor office...\n",
       "4         food great but best thing wings wings simply f...\n",
       "                                ...                        \n",
       "739995    bought similar portable dvd player polaroid am...\n",
       "739996    great book people wanting get programming wind...\n",
       "739997    dionne warwick scepter label originally releas...\n",
       "739998    book arrived condition described dealer deligh...\n",
       "739999    product seems fine but ordered wrong thing wan...\n",
       "Name: text, Length: 739766, dtype: object"
      ]
     },
     "execution_count": 49,
     "metadata": {},
     "output_type": "execute_result"
    }
   ],
   "source": [
    "x_train_preprocessed"
   ]
  },
  {
   "cell_type": "markdown",
   "id": "1974b11b-7f19-4336-8e38-15918502172d",
   "metadata": {},
   "source": [
    "<h2>Tokenizing, text to seq and padding"
   ]
  },
  {
   "cell_type": "code",
   "execution_count": 50,
   "id": "f7949347-7378-4b57-8b35-7355e6140e5f",
   "metadata": {},
   "outputs": [],
   "source": [
    "tokenizer = Tokenizer(num_words=2300) # considering only top 2,300 freq words based on above analysis"
   ]
  },
  {
   "cell_type": "code",
   "execution_count": 51,
   "id": "a1cdb16f-f143-46bd-b4f1-3dd802a1760e",
   "metadata": {},
   "outputs": [],
   "source": [
    "tokenizer.fit_on_texts(x_train_preprocessed)"
   ]
  },
  {
   "cell_type": "code",
   "execution_count": 52,
   "id": "d1cfb676-d27b-4eb5-9dd8-c1478db47c23",
   "metadata": {},
   "outputs": [
    {
     "data": {
      "text/plain": [
       "2301"
      ]
     },
     "execution_count": 52,
     "metadata": {},
     "output_type": "execute_result"
    }
   ],
   "source": [
    "vocab_size = 2300 + 1\n",
    "vocab_size"
   ]
  },
  {
   "cell_type": "code",
   "execution_count": 53,
   "id": "f3128a88-fc4e-46c1-84f9-80b592880305",
   "metadata": {},
   "outputs": [],
   "source": [
    "x_train_seq = tokenizer.texts_to_sequences(x_train_preprocessed)"
   ]
  },
  {
   "cell_type": "code",
   "execution_count": 54,
   "id": "2d0c985e-a91c-40f6-889f-cd3520944b34",
   "metadata": {},
   "outputs": [
    {
     "data": {
      "text/plain": [
       "[501,\n",
       " 779,\n",
       " 1592,\n",
       " 1976,\n",
       " 71,\n",
       " 88,\n",
       " 3,\n",
       " 1229,\n",
       " 346,\n",
       " 67,\n",
       " 345,\n",
       " 67,\n",
       " 576,\n",
       " 28,\n",
       " 335,\n",
       " 295,\n",
       " 613,\n",
       " 254,\n",
       " 1349,\n",
       " 10,\n",
       " 1102,\n",
       " 13,\n",
       " 1263,\n",
       " 320,\n",
       " 443,\n",
       " 284,\n",
       " 88,\n",
       " 1,\n",
       " 10,\n",
       " 539,\n",
       " 1321,\n",
       " 486,\n",
       " 1,\n",
       " 269,\n",
       " 335,\n",
       " 1,\n",
       " 98,\n",
       " 1921,\n",
       " 149,\n",
       " 80,\n",
       " 779,\n",
       " 151]"
      ]
     },
     "execution_count": 54,
     "metadata": {},
     "output_type": "execute_result"
    }
   ],
   "source": [
    "x_train_seq[0]"
   ]
  },
  {
   "cell_type": "code",
   "execution_count": 55,
   "id": "17afc0e2-32dc-4c28-bafd-c61f62550220",
   "metadata": {},
   "outputs": [
    {
     "data": {
      "text/plain": [
       "130"
      ]
     },
     "execution_count": 55,
     "metadata": {},
     "output_type": "execute_result"
    }
   ],
   "source": [
    "maxlen = 130 # constraining token/word lenght to 130 as 90% of sents have token count <= 130 \n",
    "maxlen"
   ]
  },
  {
   "cell_type": "code",
   "execution_count": 56,
   "id": "3ef2f0a4-31de-4515-86df-34b727ccad5c",
   "metadata": {},
   "outputs": [],
   "source": [
    "PADDING=\"post\"\n",
    "TRUNCATING=\"post\"\n",
    "x_train_seq = pad_sequences(x_train_seq, maxlen=maxlen, padding=PADDING, truncating=TRUNCATING)"
   ]
  },
  {
   "cell_type": "code",
   "execution_count": 57,
   "id": "d002bcbe-6c60-4e7d-a728-fea60883f627",
   "metadata": {},
   "outputs": [
    {
     "data": {
      "text/plain": [
       "array([ 501,  779, 1592, 1976,   71,   88,    3, 1229,  346,   67,  345,\n",
       "         67,  576,   28,  335,  295,  613,  254, 1349,   10, 1102,   13,\n",
       "       1263,  320,  443,  284,   88,    1,   10,  539, 1321,  486,    1,\n",
       "        269,  335,    1,   98, 1921,  149,   80,  779,  151,    0,    0,\n",
       "          0,    0,    0,    0,    0,    0,    0,    0,    0,    0,    0,\n",
       "          0,    0,    0,    0,    0,    0,    0,    0,    0,    0,    0,\n",
       "          0,    0,    0,    0,    0,    0,    0,    0,    0,    0,    0,\n",
       "          0,    0,    0,    0,    0,    0,    0,    0,    0,    0,    0,\n",
       "          0,    0,    0,    0,    0,    0,    0,    0,    0,    0,    0,\n",
       "          0,    0,    0,    0,    0,    0,    0,    0,    0,    0,    0,\n",
       "          0,    0,    0,    0,    0,    0,    0,    0,    0,    0,    0,\n",
       "          0,    0,    0,    0,    0,    0,    0,    0,    0])"
      ]
     },
     "execution_count": 57,
     "metadata": {},
     "output_type": "execute_result"
    }
   ],
   "source": [
    "x_train_seq[0]"
   ]
  },
  {
   "cell_type": "code",
   "execution_count": 58,
   "id": "9db194ac-9044-4a32-89dc-49a0a42cb595",
   "metadata": {},
   "outputs": [
    {
     "data": {
      "text/plain": [
       "130"
      ]
     },
     "execution_count": 58,
     "metadata": {},
     "output_type": "execute_result"
    }
   ],
   "source": [
    "np.max([len(s) for s in x_train_seq]) # shud be = maxlen"
   ]
  },
  {
   "cell_type": "code",
   "execution_count": 59,
   "id": "c3090e78-89b2-4711-a87a-394e11f05346",
   "metadata": {},
   "outputs": [],
   "source": [
    "x_train, x_val, y_train, y_val = train_test_split(x_train_seq, y_train_preprocessed, test_size=0.15, random_state=42, stratify=y_train_preprocessed)"
   ]
  },
  {
   "cell_type": "code",
   "execution_count": 60,
   "id": "1557cae6-ecf9-4b67-b57a-7437e136d988",
   "metadata": {},
   "outputs": [],
   "source": [
    "del(x_train_seq, y, y_train_preprocessed)"
   ]
  },
  {
   "cell_type": "code",
   "execution_count": 61,
   "id": "6e2a181d-a616-45ac-a822-b5ca03e1fc07",
   "metadata": {},
   "outputs": [
    {
     "data": {
      "text/plain": [
       "((628801, 130), (628801,), (110965, 130), (110965,))"
      ]
     },
     "execution_count": 61,
     "metadata": {},
     "output_type": "execute_result"
    }
   ],
   "source": [
    "x_train.shape, y_train.shape, x_val.shape, y_val.shape"
   ]
  },
  {
   "cell_type": "code",
   "execution_count": 62,
   "id": "33f266c0-36b0-4590-9f1f-5de17694a9bb",
   "metadata": {},
   "outputs": [
    {
     "data": {
      "text/plain": [
       "(dtype('int64'), dtype('int64'))"
      ]
     },
     "execution_count": 62,
     "metadata": {},
     "output_type": "execute_result"
    }
   ],
   "source": [
    "y_train.dtypes, y_val.dtypes"
   ]
  },
  {
   "cell_type": "code",
   "execution_count": 63,
   "id": "c60000c8-d390-447a-a98e-969abaf1fa83",
   "metadata": {},
   "outputs": [
    {
     "data": {
      "text/plain": [
       "241589    0\n",
       "541337    0\n",
       "3767      0\n",
       "129678    1\n",
       "668189    0\n",
       "         ..\n",
       "110932    1\n",
       "321118    0\n",
       "366425    0\n",
       "711287    1\n",
       "123475    0\n",
       "Name: rating, Length: 628801, dtype: int64"
      ]
     },
     "execution_count": 63,
     "metadata": {},
     "output_type": "execute_result"
    }
   ],
   "source": [
    "y_train"
   ]
  },
  {
   "cell_type": "code",
   "execution_count": 64,
   "id": "9480da3c-587d-4828-acd6-fa00e09d9b65",
   "metadata": {},
   "outputs": [
    {
     "data": {
      "text/plain": [
       "1    314407\n",
       "0    314394\n",
       "Name: rating, dtype: int64"
      ]
     },
     "execution_count": 64,
     "metadata": {},
     "output_type": "execute_result"
    }
   ],
   "source": [
    "y_train.value_counts()"
   ]
  },
  {
   "cell_type": "code",
   "execution_count": 65,
   "id": "1331b9ab-0b95-41aa-9adc-3977153863b4",
   "metadata": {},
   "outputs": [],
   "source": [
    "y_train = to_categorical(y_train)"
   ]
  },
  {
   "cell_type": "code",
   "execution_count": 66,
   "id": "3a7ff663-42a1-4b4c-8e57-02daefe4b59f",
   "metadata": {},
   "outputs": [
    {
     "data": {
      "text/plain": [
       "array([[1., 0.],\n",
       "       [1., 0.],\n",
       "       [1., 0.],\n",
       "       ...,\n",
       "       [1., 0.],\n",
       "       [0., 1.],\n",
       "       [1., 0.]], dtype=float32)"
      ]
     },
     "execution_count": 66,
     "metadata": {},
     "output_type": "execute_result"
    }
   ],
   "source": [
    "y_train"
   ]
  },
  {
   "cell_type": "code",
   "execution_count": 67,
   "id": "0e3da3eb-041f-497c-9abb-809eda56459d",
   "metadata": {},
   "outputs": [
    {
     "data": {
      "text/plain": [
       "(628801, 2)"
      ]
     },
     "execution_count": 67,
     "metadata": {},
     "output_type": "execute_result"
    }
   ],
   "source": [
    "y_train.shape"
   ]
  },
  {
   "cell_type": "code",
   "execution_count": 68,
   "id": "b4dfa70d-8d58-49b7-bc1e-57a5b3cb812a",
   "metadata": {},
   "outputs": [
    {
     "data": {
      "text/plain": [
       "461872    0\n",
       "128920    0\n",
       "287387    1\n",
       "337729    0\n",
       "127361    0\n",
       "         ..\n",
       "303977    1\n",
       "482958    1\n",
       "702863    1\n",
       "92446     1\n",
       "166541    1\n",
       "Name: rating, Length: 110965, dtype: int64"
      ]
     },
     "execution_count": 68,
     "metadata": {},
     "output_type": "execute_result"
    }
   ],
   "source": [
    "y_val"
   ]
  },
  {
   "cell_type": "code",
   "execution_count": 69,
   "id": "567e2ba6-ab95-46d8-a51b-1316ac1b652e",
   "metadata": {},
   "outputs": [
    {
     "data": {
      "text/plain": [
       "1    55484\n",
       "0    55481\n",
       "Name: rating, dtype: int64"
      ]
     },
     "execution_count": 69,
     "metadata": {},
     "output_type": "execute_result"
    }
   ],
   "source": [
    "y_val.value_counts()"
   ]
  },
  {
   "cell_type": "code",
   "execution_count": 70,
   "id": "580f903f-6460-4aa5-9801-05212116e2b2",
   "metadata": {},
   "outputs": [
    {
     "data": {
      "text/plain": [
       "(110965, 2)"
      ]
     },
     "execution_count": 70,
     "metadata": {},
     "output_type": "execute_result"
    }
   ],
   "source": [
    "y_val = to_categorical(y_val)\n",
    "y_val.shape"
   ]
  },
  {
   "cell_type": "markdown",
   "id": "4e4a96cf-8eec-402a-bead-307de4e0a1ed",
   "metadata": {},
   "source": [
    "<h2>Model Training"
   ]
  },
  {
   "cell_type": "code",
   "execution_count": 72,
   "id": "6f0411f1-9b07-4f24-b2f6-9e41d5f93de2",
   "metadata": {},
   "outputs": [],
   "source": [
    "early_stop = EarlyStopping(monitor=\"val_loss\", patience=5)"
   ]
  },
  {
   "cell_type": "code",
   "execution_count": 73,
   "id": "b705e597-99f3-415e-b84b-404f718f5358",
   "metadata": {},
   "outputs": [
    {
     "name": "stdout",
     "output_type": "stream",
     "text": [
      "Model: \"sequential\"\n",
      "_________________________________________________________________\n",
      " Layer (type)                Output Shape              Param #   \n",
      "=================================================================\n",
      " embedding (Embedding)       (None, 130, 80)           21541280  \n",
      "                                                                 \n",
      " lstm (LSTM)                 (None, 50)                26200     \n",
      "                                                                 \n",
      " dropout (Dropout)           (None, 50)                0         \n",
      "                                                                 \n",
      " dense (Dense)               (None, 100)               5100      \n",
      "                                                                 \n",
      " dropout_1 (Dropout)         (None, 100)               0         \n",
      "                                                                 \n",
      " dense_1 (Dense)             (None, 2)                 202       \n",
      "                                                                 \n",
      "=================================================================\n",
      "Total params: 21,572,782\n",
      "Trainable params: 21,572,782\n",
      "Non-trainable params: 0\n",
      "_________________________________________________________________\n"
     ]
    }
   ],
   "source": [
    "# model with best hyperparams\n",
    "model = Sequential()\n",
    "model.add(Embedding(input_dim=vocab_size, output_dim=80, input_length=maxlen))\n",
    "model.add(LSTM(50))\n",
    "model.add(Dropout(0.2))\n",
    "model.add(Dense(100, activation='relu'))\n",
    "model.add(Dropout(0.2))\n",
    "model.add(Dense(y_train.shape[1], activation='softmax'))\n",
    "model.compile(loss='categorical_crossentropy', optimizer='adam', metrics=['binary_accuracy'])\n",
    "model.summary()"
   ]
  },
  {
   "cell_type": "code",
   "execution_count": 74,
   "id": "6377bbb2-289d-41cc-aaaa-64c3eb988cbe",
   "metadata": {},
   "outputs": [
    {
     "name": "stdout",
     "output_type": "stream",
     "text": [
      "Epoch 1/200\n",
      "2457/2457 - 128s - loss: 0.5805 - binary_accuracy: 0.7171 - val_loss: 0.5272 - val_binary_accuracy: 0.7367 - 128s/epoch - 52ms/step\n",
      "Epoch 2/200\n",
      "2457/2457 - 102s - loss: 0.5122 - binary_accuracy: 0.7763 - val_loss: 0.6798 - val_binary_accuracy: 0.5018 - 102s/epoch - 42ms/step\n",
      "Epoch 3/200\n",
      "2457/2457 - 105s - loss: 0.3386 - binary_accuracy: 0.8641 - val_loss: 0.2472 - val_binary_accuracy: 0.8953 - 105s/epoch - 43ms/step\n",
      "Epoch 4/200\n",
      "2457/2457 - 108s - loss: 0.2280 - binary_accuracy: 0.9074 - val_loss: 0.2097 - val_binary_accuracy: 0.9142 - 108s/epoch - 44ms/step\n",
      "Epoch 5/200\n",
      "2457/2457 - 109s - loss: 0.2007 - binary_accuracy: 0.9186 - val_loss: 0.1959 - val_binary_accuracy: 0.9196 - 109s/epoch - 44ms/step\n",
      "Epoch 6/200\n",
      "2457/2457 - 139s - loss: 0.1856 - binary_accuracy: 0.9252 - val_loss: 0.1859 - val_binary_accuracy: 0.9233 - 139s/epoch - 56ms/step\n",
      "Epoch 7/200\n",
      "2457/2457 - 154s - loss: 0.1751 - binary_accuracy: 0.9298 - val_loss: 0.1820 - val_binary_accuracy: 0.9251 - 154s/epoch - 62ms/step\n",
      "Epoch 8/200\n",
      "2457/2457 - 156s - loss: 0.1673 - binary_accuracy: 0.9330 - val_loss: 0.1820 - val_binary_accuracy: 0.9261 - 156s/epoch - 64ms/step\n",
      "Epoch 9/200\n",
      "2457/2457 - 139s - loss: 0.1592 - binary_accuracy: 0.9365 - val_loss: 0.1827 - val_binary_accuracy: 0.9253 - 139s/epoch - 57ms/step\n",
      "Epoch 10/200\n",
      "2457/2457 - 108s - loss: 0.1526 - binary_accuracy: 0.9393 - val_loss: 0.1864 - val_binary_accuracy: 0.9238 - 108s/epoch - 44ms/step\n",
      "Epoch 11/200\n",
      "2457/2457 - 107s - loss: 0.1460 - binary_accuracy: 0.9424 - val_loss: 0.1904 - val_binary_accuracy: 0.9245 - 107s/epoch - 44ms/step\n",
      "Epoch 12/200\n",
      "2457/2457 - 109s - loss: 0.1398 - binary_accuracy: 0.9449 - val_loss: 0.1898 - val_binary_accuracy: 0.9242 - 109s/epoch - 44ms/step\n",
      "Epoch 13/200\n",
      "2457/2457 - 109s - loss: 0.1336 - binary_accuracy: 0.9480 - val_loss: 0.1915 - val_binary_accuracy: 0.9242 - 109s/epoch - 45ms/step\n"
     ]
    },
    {
     "data": {
      "text/plain": [
       "<keras.callbacks.History at 0x27d5fa24b88>"
      ]
     },
     "execution_count": 74,
     "metadata": {},
     "output_type": "execute_result"
    }
   ],
   "source": [
    "model.fit(x_train, y_train, epochs=200, verbose=2, validation_data=(x_val, y_val), callbacks=[early_stop], batch_size=256)"
   ]
  },
  {
   "cell_type": "code",
   "execution_count": 95,
   "id": "3c415d15-14ef-4950-98d0-741fa76c06e6",
   "metadata": {},
   "outputs": [
    {
     "name": "stdout",
     "output_type": "stream",
     "text": [
      "WARNING:tensorflow:Compiled the loaded model, but the compiled metrics have yet to be built. `model.compile_metrics` will be empty until you train or evaluate the model.\n"
     ]
    }
   ],
   "source": [
    "model.save(os.path.join(\"models\", \"review_sentiment_model.h5\"), include_optimizer=False)"
   ]
  },
  {
   "cell_type": "code",
   "execution_count": 96,
   "id": "db503dd6-3098-456e-9f1d-6deb80b94c9f",
   "metadata": {},
   "outputs": [],
   "source": [
    "with open(os.path.join(\"models\", \"preprocessors.bin\"), \"wb\") as f:\n",
    "    cloudpickle.dump((tokenizer, maxlen, PADDING, TRUNCATING), f)"
   ]
  },
  {
   "cell_type": "code",
   "execution_count": 114,
   "id": "448781a1-7cce-4807-8675-0c857427b216",
   "metadata": {},
   "outputs": [],
   "source": [
    "model = models.load_model(os.path.join(\"models\", \"review_sentiment_model.h5\"), compile=False)\n",
    "with open(os.path.join(\"models\", \"preprocessors.bin\"), \"rb\") as f:\n",
    "    tokenizer, maxlen, padding, truncating = cloudpickle.load(f)\n",
    "    \n",
    "def model_inference(input_str: str):\n",
    "    \"\"\"\n",
    "    Returns model prediction\n",
    "    \"\"\"\n",
    "    text_ser = pd.Series(input_str)\n",
    "    tp = TextPreprocessor()\n",
    "    preprocessed_str = tp.preprocess(text_ser, dataset=\"test\")\n",
    "    txt_seq = tokenizer.texts_to_sequences(preprocessed_str)\n",
    "    txt_seq = pad_sequences(txt_seq, maxlen=maxlen, padding=padding, truncating=truncating)\n",
    "    pred = model.predict(txt_seq)[0].astype(\"str\")\n",
    "    response = {\"result\": [\"negative\", \"positive\"], \"confidence\": [*pred]}\n",
    "    return response"
   ]
  },
  {
   "cell_type": "code",
   "execution_count": 115,
   "id": "cc5fb81b-f9ad-400a-be9c-3c514c87965c",
   "metadata": {},
   "outputs": [
    {
     "name": "stdout",
     "output_type": "stream",
     "text": [
      "1/1 [==============================] - 1s 817ms/step\n"
     ]
    },
    {
     "data": {
      "text/plain": [
       "{'result': ['negative', 'positive'],\n",
       " 'confidence': ['0.95128065', '0.048719294']}"
      ]
     },
     "execution_count": 115,
     "metadata": {},
     "output_type": "execute_result"
    }
   ],
   "source": [
    "model_inference(\"doesn't register a click sometimes which doesnt help in an fps game\")"
   ]
  },
  {
   "cell_type": "code",
   "execution_count": 116,
   "id": "5eb53dd8-39d3-4041-97fd-62e2649e68cf",
   "metadata": {},
   "outputs": [
    {
     "name": "stdout",
     "output_type": "stream",
     "text": [
      "1/1 [==============================] - 0s 53ms/step\n"
     ]
    },
    {
     "data": {
      "text/plain": [
       "{'result': ['negative', 'positive'],\n",
       " 'confidence': ['0.023427645', '0.97657233']}"
      ]
     },
     "execution_count": 116,
     "metadata": {},
     "output_type": "execute_result"
    }
   ],
   "source": [
    "model_inference(\"Very nice working ps4 100% working thanks amozon so much\")"
   ]
  },
  {
   "cell_type": "code",
   "execution_count": 117,
   "id": "a2cf890f-f377-464c-ac72-062db366be91",
   "metadata": {},
   "outputs": [
    {
     "name": "stdout",
     "output_type": "stream",
     "text": [
      "1/1 [==============================] - 0s 27ms/step\n"
     ]
    },
    {
     "data": {
      "text/plain": [
       "{'result': ['negative', 'positive'], 'confidence': ['0.040667', '0.95933294']}"
      ]
     },
     "execution_count": 117,
     "metadata": {},
     "output_type": "execute_result"
    }
   ],
   "source": [
    "model_inference(\"It works well\")"
   ]
  },
  {
   "cell_type": "code",
   "execution_count": 118,
   "id": "725a45f1-c933-4630-9d8d-948dcc411d4e",
   "metadata": {},
   "outputs": [
    {
     "name": "stdout",
     "output_type": "stream",
     "text": [
      "1/1 [==============================] - 0s 66ms/step\n"
     ]
    },
    {
     "data": {
      "text/plain": [
       "{'result': ['negative', 'positive'], 'confidence': ['0.812869', '0.18713103']}"
      ]
     },
     "execution_count": 118,
     "metadata": {},
     "output_type": "execute_result"
    }
   ],
   "source": [
    "model_inference(\"It's been only 7days and I am already facing the problems with this mouse pad.\")"
   ]
  }
 ],
 "metadata": {
  "kernelspec": {
   "display_name": "Python 3 (ipykernel)",
   "language": "python",
   "name": "python3"
  },
  "language_info": {
   "codemirror_mode": {
    "name": "ipython",
    "version": 3
   },
   "file_extension": ".py",
   "mimetype": "text/x-python",
   "name": "python",
   "nbconvert_exporter": "python",
   "pygments_lexer": "ipython3",
   "version": "3.7.15"
  }
 },
 "nbformat": 4,
 "nbformat_minor": 5
}
