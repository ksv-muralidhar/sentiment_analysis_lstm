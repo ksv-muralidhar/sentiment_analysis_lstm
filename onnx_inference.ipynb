{
 "cells": [
  {
   "cell_type": "code",
   "execution_count": null,
   "id": "02aad550-b988-4740-9958-6ba77826c6ba",
   "metadata": {},
   "outputs": [],
   "source": [
    "# !pip install tf2onnx\n",
    "# !pip install onnx\n",
    "# !pip install onnxruntime\n",
    "# !pip3 install numpy --upgrade"
   ]
  },
  {
   "cell_type": "code",
   "execution_count": 10,
   "id": "7ad2451b-8b7d-43ad-a254-a734f1fc44a6",
   "metadata": {},
   "outputs": [],
   "source": [
    "import warnings\n",
    "warnings.filterwarnings(\"ignore\")\n",
    "import tensorflow as tf\n",
    "import tf2onnx\n",
    "import onnx\n",
    "import cloudpickle\n",
    "import numpy as np\n",
    "import pandas as pd"
   ]
  },
  {
   "cell_type": "code",
   "execution_count": 5,
   "id": "0470be8f-a929-4626-9f0c-ad6623ed7609",
   "metadata": {},
   "outputs": [
    {
     "name": "stdout",
     "output_type": "stream",
     "text": [
      "WARNING:tensorflow:No training configuration found in the save file, so the model was *not* compiled. Compile it manually.\n"
     ]
    }
   ],
   "source": [
    "model = tf.keras.models.load_model('models/review_sentiment_model.h5')\n",
    "onnx_model, _ = tf2onnx.convert.from_keras(model)\n",
    "onnx.save(onnx_model, \"models/lstm_sentiment.onnx\")"
   ]
  },
  {
   "cell_type": "code",
   "execution_count": 6,
   "id": "cecf6c5f-68c3-4246-8700-24c244174190",
   "metadata": {},
   "outputs": [],
   "source": [
    "import onnxruntime\n",
    "from tensorflow.keras.preprocessing.sequence import pad_sequences\n",
    "from preprocessing.text_preprocessing import TextPreprocessor"
   ]
  },
  {
   "cell_type": "code",
   "execution_count": 7,
   "id": "52b51a70-23ad-478e-b498-d79d49b18563",
   "metadata": {},
   "outputs": [],
   "source": [
    "with open(\"models/preprocessors.bin\", 'rb') as f:\n",
    "    tokenizer, maxlen, padding, truncating = cloudpickle.load(f)"
   ]
  },
  {
   "cell_type": "code",
   "execution_count": 11,
   "id": "7f0daf23-f298-4585-b23f-f0c8b91d2101",
   "metadata": {},
   "outputs": [],
   "source": [
    "session = onnxruntime.InferenceSession(\"models/lstm_sentiment.onnx\", None)\n",
    "def onnx_inference(text):\n",
    "    input_name = session.get_inputs()[0].name\n",
    "    output_name = session.get_outputs()[0].name\n",
    "    tp = TextPreprocessor()\n",
    "    preprocessed_str = tp.preprocess(pd.Series(text), dataset=\"test\")\n",
    "    txt_seq = tokenizer.texts_to_sequences(preprocessed_str)\n",
    "    input_ = {\"embedding_input\" :pad_sequences(txt_seq, maxlen=maxlen, padding=padding, truncating=truncating).astype(np.float32)}\n",
    "    inputs = {key: value for key, value in input_.items()}\n",
    "    result = session.run(None, inputs)[0][0]\n",
    "    arg_max = np.argmax(result)  \n",
    "    return [*result]"
   ]
  },
  {
   "cell_type": "code",
   "execution_count": 12,
   "id": "c1fa11ee-7b1c-45dd-a742-f010b2689afb",
   "metadata": {},
   "outputs": [
    {
     "data": {
      "text/plain": [
       "[0.033652455, 0.9663476]"
      ]
     },
     "execution_count": 12,
     "metadata": {},
     "output_type": "execute_result"
    }
   ],
   "source": [
    "onnx_inference(\"it was very good\")"
   ]
  },
  {
   "cell_type": "code",
   "execution_count": 13,
   "id": "7494f20c-92f9-4b9a-b9a5-f37864c556b4",
   "metadata": {},
   "outputs": [
    {
     "data": {
      "text/plain": [
       "[0.99290097, 0.0070990026]"
      ]
     },
     "execution_count": 13,
     "metadata": {},
     "output_type": "execute_result"
    }
   ],
   "source": [
    "onnx_inference(\"it was very bad\")"
   ]
  },
  {
   "cell_type": "code",
   "execution_count": 17,
   "id": "1c93f40c-6e33-43c3-87ec-716f4f58c3c1",
   "metadata": {},
   "outputs": [
    {
     "data": {
      "text/plain": [
       "[0.562265, 0.43773505]"
      ]
     },
     "execution_count": 17,
     "metadata": {},
     "output_type": "execute_result"
    }
   ],
   "source": [
    "onnx_inference(\"it was very ugly\")"
   ]
  },
  {
   "cell_type": "code",
   "execution_count": 19,
   "id": "601fd7ec-ba86-480f-929c-9b15d10d6149",
   "metadata": {},
   "outputs": [
    {
     "data": {
      "text/plain": [
       "[0.57017696, 0.429823]"
      ]
     },
     "execution_count": 19,
     "metadata": {},
     "output_type": "execute_result"
    }
   ],
   "source": [
    "onnx_inference(\"it was unhygenic\")"
   ]
  },
  {
   "cell_type": "code",
   "execution_count": 20,
   "id": "5e3e1d97-59af-4f98-b206-c28d6e9aa7c9",
   "metadata": {},
   "outputs": [
    {
     "data": {
      "text/plain": [
       "[0.99832803, 0.0016720059]"
      ]
     },
     "execution_count": 20,
     "metadata": {},
     "output_type": "execute_result"
    }
   ],
   "source": [
    "onnx_inference(\"it was worst\")"
   ]
  },
  {
   "cell_type": "code",
   "execution_count": null,
   "id": "3b8f09e5-0859-4a75-bd58-b437577afaa7",
   "metadata": {},
   "outputs": [],
   "source": []
  }
 ],
 "metadata": {
  "kernelspec": {
   "display_name": "Python 3 (ipykernel)",
   "language": "python",
   "name": "python3"
  },
  "language_info": {
   "codemirror_mode": {
    "name": "ipython",
    "version": 3
   },
   "file_extension": ".py",
   "mimetype": "text/x-python",
   "name": "python",
   "nbconvert_exporter": "python",
   "pygments_lexer": "ipython3",
   "version": "3.9.13"
  }
 },
 "nbformat": 4,
 "nbformat_minor": 5
}
